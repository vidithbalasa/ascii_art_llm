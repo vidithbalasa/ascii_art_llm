{
 "cells": [
  {
   "cell_type": "code",
   "execution_count": 1,
   "metadata": {},
   "outputs": [],
   "source": [
    "import numpy as np\n",
    "import pandas as pd\n",
    "import json\n",
    "import matplotlib.pyplot as plt"
   ]
  },
  {
   "cell_type": "markdown",
   "metadata": {},
   "source": [
    "### Data Exploration"
   ]
  },
  {
   "cell_type": "code",
   "execution_count": 2,
   "metadata": {},
   "outputs": [
    {
     "data": {
      "text/html": [
       "<div>\n",
       "<style scoped>\n",
       "    .dataframe tbody tr th:only-of-type {\n",
       "        vertical-align: middle;\n",
       "    }\n",
       "\n",
       "    .dataframe tbody tr th {\n",
       "        vertical-align: top;\n",
       "    }\n",
       "\n",
       "    .dataframe thead th {\n",
       "        text-align: right;\n",
       "    }\n",
       "</style>\n",
       "<table border=\"1\" class=\"dataframe\">\n",
       "  <thead>\n",
       "    <tr style=\"text-align: right;\">\n",
       "      <th></th>\n",
       "      <th>topic</th>\n",
       "      <th>pre_suffix</th>\n",
       "      <th>text</th>\n",
       "    </tr>\n",
       "  </thead>\n",
       "  <tbody>\n",
       "    <tr>\n",
       "      <th>0</th>\n",
       "      <td>aardvarks</td>\n",
       "      <td>LG</td>\n",
       "      <td>z       A_A_R_D_V_A_R_K_O          ///////////...</td>\n",
       "    </tr>\n",
       "    <tr>\n",
       "      <th>1</th>\n",
       "      <td>aardvarks</td>\n",
       "      <td>SM</td>\n",
       "      <td>_.---._    /\\\\\\r\\n    ./'       \"--`\\//...</td>\n",
       "    </tr>\n",
       "    <tr>\n",
       "      <th>2</th>\n",
       "      <td>aardvarks</td>\n",
       "      <td>None</td>\n",
       "      <td>_.---._    /\\\\\\r\\n    ./'       \"--`\\//...</td>\n",
       "    </tr>\n",
       "    <tr>\n",
       "      <th>3</th>\n",
       "      <td>aardvarks</td>\n",
       "      <td>SM</td>\n",
       "      <td>,__    _,            ___\\r\\n     '.`\\ /`| ...</td>\n",
       "    </tr>\n",
       "    <tr>\n",
       "      <th>4</th>\n",
       "      <td>aardvarks</td>\n",
       "      <td>SM</td>\n",
       "      <td>_,,......_\\r\\n            ...</td>\n",
       "    </tr>\n",
       "  </tbody>\n",
       "</table>\n",
       "</div>"
      ],
      "text/plain": [
       "       topic pre_suffix                                               text\n",
       "0  aardvarks         LG  z       A_A_R_D_V_A_R_K_O          ///////////...\n",
       "1  aardvarks         SM         _.---._    /\\\\\\r\\n    ./'       \"--`\\//...\n",
       "2  aardvarks       None         _.---._    /\\\\\\r\\n    ./'       \"--`\\//...\n",
       "3  aardvarks         SM      ,__    _,            ___\\r\\n     '.`\\ /`| ...\n",
       "4  aardvarks         SM                      _,,......_\\r\\n            ..."
      ]
     },
     "execution_count": 2,
     "metadata": {},
     "output_type": "execute_result"
    }
   ],
   "source": [
    "data_path = 'ascii_data/ascii_art_data.json'\n",
    "df = pd.read_json(data_path)\n",
    "df.head()"
   ]
  },
  {
   "cell_type": "code",
   "execution_count": 3,
   "metadata": {},
   "outputs": [
    {
     "name": "stdout",
     "output_type": "stream",
     "text": [
      "       _.---._    /\\\\\n",
      "    ./'       \"--`\\//\n",
      "  ./              o \\          .-----.\n",
      " /./\\  )______   \\__ \\        ( help! )\n",
      "./  / /\\ \\   | \\ \\  \\ \\       /`-----'\n",
      "   / /  \\ \\  | |\\ \\  \\7--- ooo ooo ooo ooo ooo ooo\n"
     ]
    }
   ],
   "source": [
    "print(df['text'][1])"
   ]
  },
  {
   "cell_type": "code",
   "execution_count": 4,
   "metadata": {},
   "outputs": [],
   "source": [
    "def calculate_size(ascii_art: str) -> tuple[int, int]:\n",
    "    lines = ascii_art.split('\\r\\n')\n",
    "    width = max([len(line) for line in lines])\n",
    "    height = len(lines)\n",
    "    return width, height"
   ]
  },
  {
   "cell_type": "code",
   "execution_count": 5,
   "metadata": {},
   "outputs": [
    {
     "data": {
      "text/html": [
       "<div>\n",
       "<style scoped>\n",
       "    .dataframe tbody tr th:only-of-type {\n",
       "        vertical-align: middle;\n",
       "    }\n",
       "\n",
       "    .dataframe tbody tr th {\n",
       "        vertical-align: top;\n",
       "    }\n",
       "\n",
       "    .dataframe thead th {\n",
       "        text-align: right;\n",
       "    }\n",
       "</style>\n",
       "<table border=\"1\" class=\"dataframe\">\n",
       "  <thead>\n",
       "    <tr style=\"text-align: right;\">\n",
       "      <th></th>\n",
       "      <th>topic</th>\n",
       "      <th>pre_suffix</th>\n",
       "      <th>text</th>\n",
       "      <th>width</th>\n",
       "      <th>height</th>\n",
       "    </tr>\n",
       "  </thead>\n",
       "  <tbody>\n",
       "    <tr>\n",
       "      <th>0</th>\n",
       "      <td>aardvarks</td>\n",
       "      <td>LG</td>\n",
       "      <td>z       A_A_R_D_V_A_R_K_O          ///////////...</td>\n",
       "      <td>75</td>\n",
       "      <td>4</td>\n",
       "    </tr>\n",
       "    <tr>\n",
       "      <th>1</th>\n",
       "      <td>aardvarks</td>\n",
       "      <td>SM</td>\n",
       "      <td>_.---._    /\\\\\\r\\n    ./'       \"--`\\//...</td>\n",
       "      <td>51</td>\n",
       "      <td>6</td>\n",
       "    </tr>\n",
       "    <tr>\n",
       "      <th>2</th>\n",
       "      <td>aardvarks</td>\n",
       "      <td>None</td>\n",
       "      <td>_.---._    /\\\\\\r\\n    ./'       \"--`\\//...</td>\n",
       "      <td>30</td>\n",
       "      <td>7</td>\n",
       "    </tr>\n",
       "    <tr>\n",
       "      <th>3</th>\n",
       "      <td>aardvarks</td>\n",
       "      <td>SM</td>\n",
       "      <td>,__    _,            ___\\r\\n     '.`\\ /`| ...</td>\n",
       "      <td>48</td>\n",
       "      <td>12</td>\n",
       "    </tr>\n",
       "    <tr>\n",
       "      <th>4</th>\n",
       "      <td>aardvarks</td>\n",
       "      <td>SM</td>\n",
       "      <td>_,,......_\\r\\n            ...</td>\n",
       "      <td>51</td>\n",
       "      <td>13</td>\n",
       "    </tr>\n",
       "  </tbody>\n",
       "</table>\n",
       "</div>"
      ],
      "text/plain": [
       "       topic pre_suffix                                               text  \\\n",
       "0  aardvarks         LG  z       A_A_R_D_V_A_R_K_O          ///////////...   \n",
       "1  aardvarks         SM         _.---._    /\\\\\\r\\n    ./'       \"--`\\//...   \n",
       "2  aardvarks       None         _.---._    /\\\\\\r\\n    ./'       \"--`\\//...   \n",
       "3  aardvarks         SM      ,__    _,            ___\\r\\n     '.`\\ /`| ...   \n",
       "4  aardvarks         SM                      _,,......_\\r\\n            ...   \n",
       "\n",
       "   width  height  \n",
       "0     75       4  \n",
       "1     51       6  \n",
       "2     30       7  \n",
       "3     48      12  \n",
       "4     51      13  "
      ]
     },
     "execution_count": 5,
     "metadata": {},
     "output_type": "execute_result"
    }
   ],
   "source": [
    "# Add width and height columns to the dataframe\n",
    "df['width'], df['height'] = zip(*df['text'].map(calculate_size))\n",
    "df.head()"
   ]
  },
  {
   "cell_type": "code",
   "execution_count": 6,
   "metadata": {},
   "outputs": [
    {
     "data": {
      "text/html": [
       "<div>\n",
       "<style scoped>\n",
       "    .dataframe tbody tr th:only-of-type {\n",
       "        vertical-align: middle;\n",
       "    }\n",
       "\n",
       "    .dataframe tbody tr th {\n",
       "        vertical-align: top;\n",
       "    }\n",
       "\n",
       "    .dataframe thead th {\n",
       "        text-align: right;\n",
       "    }\n",
       "</style>\n",
       "<table border=\"1\" class=\"dataframe\">\n",
       "  <thead>\n",
       "    <tr style=\"text-align: right;\">\n",
       "      <th></th>\n",
       "      <th>width</th>\n",
       "      <th>height</th>\n",
       "    </tr>\n",
       "  </thead>\n",
       "  <tbody>\n",
       "    <tr>\n",
       "      <th>count</th>\n",
       "      <td>5224.000000</td>\n",
       "      <td>5224.000000</td>\n",
       "    </tr>\n",
       "    <tr>\n",
       "      <th>mean</th>\n",
       "      <td>46.340161</td>\n",
       "      <td>19.593415</td>\n",
       "    </tr>\n",
       "    <tr>\n",
       "      <th>std</th>\n",
       "      <td>130.718712</td>\n",
       "      <td>33.012035</td>\n",
       "    </tr>\n",
       "    <tr>\n",
       "      <th>min</th>\n",
       "      <td>1.000000</td>\n",
       "      <td>1.000000</td>\n",
       "    </tr>\n",
       "    <tr>\n",
       "      <th>25%</th>\n",
       "      <td>22.000000</td>\n",
       "      <td>8.750000</td>\n",
       "    </tr>\n",
       "    <tr>\n",
       "      <th>50%</th>\n",
       "      <td>37.000000</td>\n",
       "      <td>15.000000</td>\n",
       "    </tr>\n",
       "    <tr>\n",
       "      <th>75%</th>\n",
       "      <td>60.000000</td>\n",
       "      <td>24.000000</td>\n",
       "    </tr>\n",
       "    <tr>\n",
       "      <th>max</th>\n",
       "      <td>3459.000000</td>\n",
       "      <td>1804.000000</td>\n",
       "    </tr>\n",
       "  </tbody>\n",
       "</table>\n",
       "</div>"
      ],
      "text/plain": [
       "             width       height\n",
       "count  5224.000000  5224.000000\n",
       "mean     46.340161    19.593415\n",
       "std     130.718712    33.012035\n",
       "min       1.000000     1.000000\n",
       "25%      22.000000     8.750000\n",
       "50%      37.000000    15.000000\n",
       "75%      60.000000    24.000000\n",
       "max    3459.000000  1804.000000"
      ]
     },
     "execution_count": 6,
     "metadata": {},
     "output_type": "execute_result"
    }
   ],
   "source": [
    "# Get descriptive statistics for the width and height columns\n",
    "df.describe()"
   ]
  },
  {
   "cell_type": "code",
   "execution_count": 7,
   "metadata": {},
   "outputs": [
    {
     "data": {
      "text/html": [
       "<div>\n",
       "<style scoped>\n",
       "    .dataframe tbody tr th:only-of-type {\n",
       "        vertical-align: middle;\n",
       "    }\n",
       "\n",
       "    .dataframe tbody tr th {\n",
       "        vertical-align: top;\n",
       "    }\n",
       "\n",
       "    .dataframe thead th {\n",
       "        text-align: right;\n",
       "    }\n",
       "</style>\n",
       "<table border=\"1\" class=\"dataframe\">\n",
       "  <thead>\n",
       "    <tr style=\"text-align: right;\">\n",
       "      <th></th>\n",
       "      <th>width</th>\n",
       "      <th>height</th>\n",
       "    </tr>\n",
       "  </thead>\n",
       "  <tbody>\n",
       "    <tr>\n",
       "      <th>count</th>\n",
       "      <td>1754.000000</td>\n",
       "      <td>1754.000000</td>\n",
       "    </tr>\n",
       "    <tr>\n",
       "      <th>mean</th>\n",
       "      <td>37.777081</td>\n",
       "      <td>15.597491</td>\n",
       "    </tr>\n",
       "    <tr>\n",
       "      <th>std</th>\n",
       "      <td>10.928587</td>\n",
       "      <td>4.662960</td>\n",
       "    </tr>\n",
       "    <tr>\n",
       "      <th>min</th>\n",
       "      <td>22.000000</td>\n",
       "      <td>8.000000</td>\n",
       "    </tr>\n",
       "    <tr>\n",
       "      <th>25%</th>\n",
       "      <td>28.000000</td>\n",
       "      <td>12.000000</td>\n",
       "    </tr>\n",
       "    <tr>\n",
       "      <th>50%</th>\n",
       "      <td>36.000000</td>\n",
       "      <td>15.000000</td>\n",
       "    </tr>\n",
       "    <tr>\n",
       "      <th>75%</th>\n",
       "      <td>46.000000</td>\n",
       "      <td>19.750000</td>\n",
       "    </tr>\n",
       "    <tr>\n",
       "      <th>max</th>\n",
       "      <td>60.000000</td>\n",
       "      <td>24.000000</td>\n",
       "    </tr>\n",
       "  </tbody>\n",
       "</table>\n",
       "</div>"
      ],
      "text/plain": [
       "             width       height\n",
       "count  1754.000000  1754.000000\n",
       "mean     37.777081    15.597491\n",
       "std      10.928587     4.662960\n",
       "min      22.000000     8.000000\n",
       "25%      28.000000    12.000000\n",
       "50%      36.000000    15.000000\n",
       "75%      46.000000    19.750000\n",
       "max      60.000000    24.000000"
      ]
     },
     "execution_count": 7,
     "metadata": {},
     "output_type": "execute_result"
    }
   ],
   "source": [
    "# Remove all items not between 22 & 60 characters wide OR 8 & 24 characters tall\n",
    "cleaned_df = df[(df['width'] >= 22) & (df['width'] <= 60) & (df['height'] >= 8) & (df['height'] <= 24)]\n",
    "cleaned_df.reset_index(drop=True, inplace=True)\n",
    "cleaned_df.describe()"
   ]
  },
  {
   "cell_type": "code",
   "execution_count": 8,
   "metadata": {},
   "outputs": [
    {
     "data": {
      "image/png": "[encoded data removed]",
      "text/plain": [
       "<Figure size 1200x600 with 2 Axes>"
      ]
     },
     "metadata": {},
     "output_type": "display_data"
    }
   ],
   "source": [
    "# Draw histogram for width and height\n",
    "fig, ax = plt.subplots(1, 2, figsize=(12, 6))\n",
    "cleaned_df['width'].hist(ax=ax[0], bins=100)\n",
    "ax[0].set_title('Width')\n",
    "# Max x axis limit to 200\n",
    "ax[0].set_xlim(22, 61)\n",
    "cleaned_df['height'].hist(ax=ax[1], bins=100)\n",
    "ax[1].set_title('Height')\n",
    "# Max x axis limit to 200\n",
    "ax[1].set_xlim(8, 24)\n",
    "plt.show()"
   ]
  },
  {
   "cell_type": "code",
   "execution_count": 9,
   "metadata": {},
   "outputs": [
    {
     "name": "stdout",
     "output_type": "stream",
     "text": [
      "    .--.              .--.\n",
      "   : (\\ \". _......_ .\" /) :\n",
      "    '.    `        `    .'\n",
      "     /'   _        _   `\\\n",
      "    /     0}      {0     \\\n",
      "   |       /      \\       |\n",
      "   |     /'        `\\     |\n",
      "    \\   | .  .==.  . |   /\n",
      "     '._ \\.' \\__/ './ _.'\n",
      "jgs  /  ``'._-''-_.'``  \\\n"
     ]
    }
   ],
   "source": [
    "# Show first item\n",
    "print(cleaned_df['text'][9])"
   ]
  },
  {
   "cell_type": "code",
   "execution_count": 10,
   "metadata": {},
   "outputs": [],
   "source": [
    "WIDTH = 60\n",
    "HEIGHT = 24\n",
    "def add_whitespace(ascii_art: str) -> str:\n",
    "    lines = ascii_art.split('\\r\\n')\n",
    "    width = max([len(line) for line in lines])\n",
    "    height = len(lines)\n",
    "    new_lines = []\n",
    "    for line in lines:\n",
    "        new_line = line.center(WIDTH, ' ')\n",
    "        new_lines.append(new_line)\n",
    "    # Center the image vertically\n",
    "    new_lines = new_lines[:HEIGHT]\n",
    "    new_lines = [' ' * WIDTH] * ((HEIGHT - len(new_lines)) // 2) + new_lines\n",
    "    new_lines = new_lines + [' ' * WIDTH] * ((HEIGHT - len(new_lines)))\n",
    "    return '\\r\\n'.join(new_lines)"
   ]
  },
  {
   "cell_type": "code",
   "execution_count": 11,
   "metadata": {},
   "outputs": [
    {
     "name": "stderr",
     "output_type": "stream",
     "text": [
      "/var/folders/_1/1svnsfjd2bg_frmt3qhvd4th0000gn/T/ipykernel_20828/2255420325.py:1: SettingWithCopyWarning: \n",
      "A value is trying to be set on a copy of a slice from a DataFrame.\n",
      "Try using .loc[row_indexer,col_indexer] = value instead\n",
      "\n",
      "See the caveats in the documentation: https://pandas.pydata.org/pandas-docs/stable/user_guide/indexing.html#returning-a-view-versus-a-copy\n",
      "  cleaned_df['text'] = cleaned_df['text'].map(add_whitespace)\n",
      "/var/folders/_1/1svnsfjd2bg_frmt3qhvd4th0000gn/T/ipykernel_20828/2255420325.py:2: SettingWithCopyWarning: \n",
      "A value is trying to be set on a copy of a slice from a DataFrame.\n",
      "Try using .loc[row_indexer,col_indexer] = value instead\n",
      "\n",
      "See the caveats in the documentation: https://pandas.pydata.org/pandas-docs/stable/user_guide/indexing.html#returning-a-view-versus-a-copy\n",
      "  cleaned_df['width'], cleaned_df['height'] = zip(*cleaned_df['text'].map(calculate_size))\n"
     ]
    },
    {
     "data": {
      "text/html": [
       "<div>\n",
       "<style scoped>\n",
       "    .dataframe tbody tr th:only-of-type {\n",
       "        vertical-align: middle;\n",
       "    }\n",
       "\n",
       "    .dataframe tbody tr th {\n",
       "        vertical-align: top;\n",
       "    }\n",
       "\n",
       "    .dataframe thead th {\n",
       "        text-align: right;\n",
       "    }\n",
       "</style>\n",
       "<table border=\"1\" class=\"dataframe\">\n",
       "  <thead>\n",
       "    <tr style=\"text-align: right;\">\n",
       "      <th></th>\n",
       "      <th>topic</th>\n",
       "      <th>pre_suffix</th>\n",
       "      <th>text</th>\n",
       "      <th>width</th>\n",
       "      <th>height</th>\n",
       "    </tr>\n",
       "  </thead>\n",
       "  <tbody>\n",
       "    <tr>\n",
       "      <th>0</th>\n",
       "      <td>aardvarks</td>\n",
       "      <td>SM</td>\n",
       "      <td>...</td>\n",
       "      <td>60</td>\n",
       "      <td>24</td>\n",
       "    </tr>\n",
       "    <tr>\n",
       "      <th>1</th>\n",
       "      <td>aardvarks</td>\n",
       "      <td>SM</td>\n",
       "      <td>...</td>\n",
       "      <td>60</td>\n",
       "      <td>24</td>\n",
       "    </tr>\n",
       "    <tr>\n",
       "      <th>2</th>\n",
       "      <td>amoeba</td>\n",
       "      <td>None</td>\n",
       "      <td>...</td>\n",
       "      <td>60</td>\n",
       "      <td>24</td>\n",
       "    </tr>\n",
       "    <tr>\n",
       "      <th>3</th>\n",
       "      <td>bats</td>\n",
       "      <td>SM</td>\n",
       "      <td>...</td>\n",
       "      <td>60</td>\n",
       "      <td>24</td>\n",
       "    </tr>\n",
       "    <tr>\n",
       "      <th>4</th>\n",
       "      <td>bats</td>\n",
       "      <td>None</td>\n",
       "      <td>...</td>\n",
       "      <td>60</td>\n",
       "      <td>24</td>\n",
       "    </tr>\n",
       "  </tbody>\n",
       "</table>\n",
       "</div>"
      ],
      "text/plain": [
       "       topic pre_suffix                                               text  \\\n",
       "0  aardvarks         SM                                                ...   \n",
       "1  aardvarks         SM                                                ...   \n",
       "2     amoeba       None                                                ...   \n",
       "3       bats         SM                                                ...   \n",
       "4       bats       None                                                ...   \n",
       "\n",
       "   width  height  \n",
       "0     60      24  \n",
       "1     60      24  \n",
       "2     60      24  \n",
       "3     60      24  \n",
       "4     60      24  "
      ]
     },
     "execution_count": 11,
     "metadata": {},
     "output_type": "execute_result"
    }
   ],
   "source": [
    "cleaned_df['text'] = cleaned_df['text'].map(add_whitespace)\n",
    "cleaned_df['width'], cleaned_df['height'] = zip(*cleaned_df['text'].map(calculate_size))\n",
    "cleaned_df.head()"
   ]
  },
  {
   "cell_type": "code",
   "execution_count": 13,
   "metadata": {},
   "outputs": [
    {
     "name": "stdout",
     "output_type": "stream",
     "text": [
      "                                                            \n",
      "                                                            \n",
      "                                                            \n",
      "                                                            \n",
      "                                                            \n",
      "                                                            \n",
      "                    ,__    _,            ___                \n",
      "                   '.`\\ /`|     _.-\"```   `'.               \n",
      "                    ; |  /   .'             `}              \n",
      "                    _\\|\\/_.-'                 }             \n",
      "               _.-\"a                 {        }             \n",
      "            .-`  __    /._          {         }\\            \n",
      "           '--\"`  `\"\"`   `\\   ;    {         } \\            \n",
      "                          |   } __ _\\       }\\  \\           \n",
      "                         |  /;`   / :.   }`  \\  \\           \n",
      "                        | | | .-' /  / /     '. '._         \n",
      "             jgs    .'__/-' ````.-'.'        '-._'-._       \n",
      "                   ```        ````              `\"\"\"`\n",
      "                                                            \n",
      "                                                            \n",
      "                                                            \n",
      "                                                            \n",
      "                                                            \n",
      "                                                            \n"
     ]
    }
   ],
   "source": [
    "# Print the first item\n",
    "print(cleaned_df['text'][0])"
   ]
  },
  {
   "cell_type": "code",
   "execution_count": 16,
   "metadata": {},
   "outputs": [
    {
     "name": "stdout",
     "output_type": "stream",
     "text": [
      "111\n"
     ]
    }
   ],
   "source": [
    "# Get a list of all unique characters in the dataset\n",
    "unique_chars = set()\n",
    "for text in cleaned_df['text']:\n",
    "    unique_chars.update(set(text))\n",
    "unique_chars = sorted(list(unique_chars))\n",
    "print(len(unique_chars))"
   ]
  },
  {
   "cell_type": "code",
   "execution_count": 14,
   "metadata": {},
   "outputs": [],
   "source": [
    "# Save the cleaned data to a new JSON file (just the text)\n",
    "cleaned_data_path = 'ascii_data/cleaned_ascii_art_data.json'\n",
    "cleaned_df['text'].to_json(cleaned_data_path)"
   ]
  }
 ],
 "metadata": {
  "kernelspec": {
   "display_name": ".venv",
   "language": "python",
   "name": "python3"
  },
  "language_info": {
   "codemirror_mode": {
    "name": "ipython",
    "version": 3
   },
   "file_extension": ".py",
   "mimetype": "text/x-python",
   "name": "python",
   "nbconvert_exporter": "python",
   "pygments_lexer": "ipython3",
   "version": "3.12.2"
  }
 },
 "nbformat": 4,
 "nbformat_minor": 2
}

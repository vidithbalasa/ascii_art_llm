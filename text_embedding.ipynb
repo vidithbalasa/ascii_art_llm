{
 "cells": [
  {
   "cell_type": "code",
   "execution_count": 1,
   "metadata": {},
   "outputs": [
    {
     "name": "stdout",
     "output_type": "stream",
     "text": [
      "Using apple metal GPU\n"
     ]
    }
   ],
   "source": [
    "import sys\n",
    "import pandas as pd\n",
    "\n",
    "import torch\n",
    "import torch.nn as nn\n",
    "import torch.nn.functional as F\n",
    "\n",
    "from torch import einsum\n",
    "from torch.utils.data import DataLoader, Dataset\n",
    "\n",
    "from sentence_transformers import SentenceTransformer\n",
    "\n",
    "from ascii_utils import ASCIITransformer, ASCIITokenizer"
   ]
  },
  {
   "cell_type": "code",
   "execution_count": 2,
   "metadata": {},
   "outputs": [
    {
     "name": "stdout",
     "output_type": "stream",
     "text": [
      "Using apple metal GPU\n"
     ]
    }
   ],
   "source": [
    "# check for GPU\n",
    "if torch.backends.mps.is_available():\n",
    "    device = torch.device(\"mps\")\n",
    "    print(\"Using apple metal GPU\")\n",
    "elif torch.cuda.is_available():\n",
    "    device = torch.device(\"cuda\")\n",
    "    print(\"Using nvidia GPU\")\n",
    "else:\n",
    "    device = torch.device(\"cpu\")\n",
    "    print(\"GPU not available, using CPU\")"
   ]
  },
  {
   "cell_type": "code",
   "execution_count": 3,
   "metadata": {},
   "outputs": [],
   "source": [
    "# class ASCIITokenizer:\n",
    "#     def __init__(self):\n",
    "#         self.vocab = [chr(i) for i in range(32, 127)] + ['']\n",
    "#         self.vocab_size = len(self.vocab)\n",
    "#         self.token_to_char = {i: c for i, c in enumerate(self.vocab)}\n",
    "#         self.char_to_token = {c: i for i, c in enumerate(self.vocab)}\n",
    "\n",
    "#     def tokenize(self, text):\n",
    "#         tokens = [self.char_to_token[c] for c in text if c in self.vocab]\n",
    "#         return tokens"
   ]
  },
  {
   "cell_type": "code",
   "execution_count": 4,
   "metadata": {},
   "outputs": [
    {
     "data": {
      "text/html": [
       "<div>\n",
       "<style scoped>\n",
       "    .dataframe tbody tr th:only-of-type {\n",
       "        vertical-align: middle;\n",
       "    }\n",
       "\n",
       "    .dataframe tbody tr th {\n",
       "        vertical-align: top;\n",
       "    }\n",
       "\n",
       "    .dataframe thead th {\n",
       "        text-align: right;\n",
       "    }\n",
       "</style>\n",
       "<table border=\"1\" class=\"dataframe\">\n",
       "  <thead>\n",
       "    <tr style=\"text-align: right;\">\n",
       "      <th></th>\n",
       "      <th>topic</th>\n",
       "      <th>text</th>\n",
       "    </tr>\n",
       "  </thead>\n",
       "  <tbody>\n",
       "    <tr>\n",
       "      <th>2</th>\n",
       "      <td>aardvarks</td>\n",
       "      <td>_.---._    /\\\\           \\n    ./'     ...</td>\n",
       "    </tr>\n",
       "    <tr>\n",
       "      <th>8</th>\n",
       "      <td>bats</td>\n",
       "      <td>_   ,_,   _             \\n       / `'=...</td>\n",
       "    </tr>\n",
       "    <tr>\n",
       "      <th>9</th>\n",
       "      <td>bats</td>\n",
       "      <td>(_    ,_,    _)          \\n       / `'-...</td>\n",
       "    </tr>\n",
       "    <tr>\n",
       "      <th>10</th>\n",
       "      <td>bats</td>\n",
       "      <td>=/\\                 /\\=     \\n    / \\'._  ...</td>\n",
       "    </tr>\n",
       "    <tr>\n",
       "      <th>11</th>\n",
       "      <td>bats</td>\n",
       "      <td>/\\                 /\\        \\n  / \\'._   (...</td>\n",
       "    </tr>\n",
       "  </tbody>\n",
       "</table>\n",
       "</div>"
      ],
      "text/plain": [
       "        topic                                               text\n",
       "2   aardvarks         _.---._    /\\\\           \\n    ./'     ...\n",
       "8        bats          _   ,_,   _             \\n       / `'=...\n",
       "9        bats         (_    ,_,    _)          \\n       / `'-...\n",
       "10       bats      =/\\                 /\\=     \\n    / \\'._  ...\n",
       "11       bats     /\\                 /\\        \\n  / \\'._   (..."
      ]
     },
     "execution_count": 4,
     "metadata": {},
     "output_type": "execute_result"
    }
   ],
   "source": [
    "def pad_ascii_art(ascii_art, max_width=32, max_height=32, pad_char=' '):\n",
    "    lines = ascii_art.splitlines()\n",
    "    padded_lines = [line.ljust(max_width, pad_char) for line in lines]\n",
    "    while len(padded_lines) < max_height:\n",
    "        padded_lines.append(pad_char * max_width)\n",
    "    return '\\n'.join(padded_lines)\n",
    "\n",
    "df = pd.read_json(\"./ascii_data/ascii_art_data.json\")\n",
    "df['width'] = df['text'].apply(lambda x: max(len(line) for line in x.splitlines()))\n",
    "df['height'] = df['text'].apply(lambda x: len(x.splitlines()))\n",
    "df['text'] = df['text'].apply(pad_ascii_art)\n",
    "\n",
    "df = df[ (df['width'] < 32) & (df['height'] < 32) ][['topic', 'text']]\n",
    "df[:5]"
   ]
  },
  {
   "cell_type": "code",
   "execution_count": 5,
   "metadata": {},
   "outputs": [],
   "source": [
    "tokenizer = ASCIITokenizer()\n",
    "\n",
    "class ASCIIDataLoader(Dataset):\n",
    "    def __init__(self, df, tokenizer):\n",
    "        df = df.reset_index()\n",
    "        self.labels = df['topic']\n",
    "        tokenized_data = [tokenizer.tokenize(art) for art in df['text']]\n",
    "        max_length = 32 * 32\n",
    "        tokenized_data = [tokens + [0] * (max_length - len(tokens)) for tokens in tokenized_data]\n",
    "        self.asciis = torch.tensor(tokenized_data)\n",
    "\n",
    "    def __len__(self):\n",
    "        return len(self.labels)\n",
    "\n",
    "    def __getitem__(self, idx):\n",
    "        return self.asciis[idx], self.labels[idx]\n",
    "\n",
    "dataset = ASCIIDataLoader(df, ASCIITokenizer())\n",
    "loader = DataLoader(dataset, batch_size=10, shuffle=True)"
   ]
  },
  {
   "cell_type": "code",
   "execution_count": 6,
   "metadata": {},
   "outputs": [
    {
     "ename": "",
     "evalue": "",
     "output_type": "error",
     "traceback": [
      "\u001b[1;31mThe Kernel crashed while executing code in the current cell or a previous cell. \n",
      "\u001b[1;31mPlease review the code in the cell(s) to identify a possible cause of the failure. \n",
      "\u001b[1;31mClick <a href='https://aka.ms/vscodeJupyterKernelCrash'>here</a> for more info. \n",
      "\u001b[1;31mView Jupyter <a href='command:jupyter.viewOutput'>log</a> for further details."
     ]
    }
   ],
   "source": [
    "model = ASCIITransformer().to(device)"
   ]
  },
  {
   "cell_type": "code",
   "execution_count": 7,
   "metadata": {},
   "outputs": [],
   "source": [
    "\n",
    "sentence_transformer_model=\"sentence-transformers/all-MiniLM-L6-v2\"\n",
    "embedding_model = SentenceTransformer(sentence_transformer_model).to(device)\n",
    "def encode(x):\n",
    "    return embedding_model.encode(x)\n",
    "\n",
    "criterion = nn.CrossEntropyLoss()\n",
    "optimizer = torch.optim.Adam(model.parameters(), lr=0.001)\n",
    "\n",
    "for epoch in range(10):\n",
    "    for ascii_text, label in loader:\n",
    "        # print(label)\n",
    "        # print(ascii_text)\n",
    "        ascii_text = ascii_text.to(device)\n",
    "        embedding = torch.from_numpy(encode(label)).to(device)\n",
    "        optimizer.zero_grad()\n",
    "        outputs = model(embedding)\n",
    "        loss = criterion(outputs.view(-1), ascii_text.view(-1).float())\n",
    "        loss.backward()\n",
    "        optimizer.step()\n",
    "    print(f'Epoch {epoch+1}, Loss: {loss.item()}')"
   ]
  },
  {
   "cell_type": "code",
   "execution_count": null,
   "metadata": {},
   "outputs": [
    {
     "name": "stdout",
     "output_type": "stream",
     "text": [
      "tensor([73])\n"
     ]
    },
    {
     "ename": "RuntimeError",
     "evalue": "shape '[32, 32]' is invalid for input of size 1",
     "output_type": "error",
     "traceback": [
      "\u001b[0;31m---------------------------------------------------------------------------\u001b[0m",
      "\u001b[0;31mRuntimeError\u001b[0m                              Traceback (most recent call last)",
      "Cell \u001b[0;32mIn[91], line 12\u001b[0m\n\u001b[1;32m     10\u001b[0m \u001b[38;5;28mprint\u001b[39m(predicted_indices)\n\u001b[1;32m     11\u001b[0m \u001b[38;5;66;03m# If 'out' was already flat or needs to be reshaped, adjust accordingly:\u001b[39;00m\n\u001b[0;32m---> 12\u001b[0m predicted_indices \u001b[38;5;241m=\u001b[39m \u001b[43mpredicted_indices\u001b[49m\u001b[38;5;241;43m.\u001b[39;49m\u001b[43mreshape\u001b[49m\u001b[43m(\u001b[49m\u001b[38;5;241;43m32\u001b[39;49m\u001b[43m,\u001b[49m\u001b[43m \u001b[49m\u001b[38;5;241;43m32\u001b[39;49m\u001b[43m)\u001b[49m  \u001b[38;5;66;03m# Reshape if your indices are not in this shape yet\u001b[39;00m\n\u001b[1;32m     14\u001b[0m \u001b[38;5;66;03m# Convert to numpy array if you're working with non-torch functions later\u001b[39;00m\n\u001b[1;32m     15\u001b[0m predicted_indices \u001b[38;5;241m=\u001b[39m predicted_indices\u001b[38;5;241m.\u001b[39mnumpy()\n",
      "\u001b[0;31mRuntimeError\u001b[0m: shape '[32, 32]' is invalid for input of size 1"
     ]
    }
   ],
   "source": [
    "out = model(torch.tensor(encode(['aardvark'])).to(device)).cpu()\n",
    "out = out.detach()  # Detach from the computation graph if not already detached\n",
    "\n",
    "# Apply softmax to convert logits to probabilities along the appropriate dimension\n",
    "# Note: softmax is not necessary just to get the indices with argmax, but shown here for completeness if probabilities are needed\n",
    "probabilities = torch.softmax(out, dim=1)  # Ensure 'dim' is set correctly based on your model's output shape\n",
    "\n",
    "# Use argmax to get the indices of the max probabilities (class indices)\n",
    "predicted_indices = torch.argmax(probabilities, dim=1)\n",
    "print(predicted_indices)\n",
    "# If 'out' was already flat or needs to be reshaped, adjust accordingly:\n",
    "predicted_indices = predicted_indices.reshape(32, 32)  # Reshape if your indices are not in this shape yet\n",
    "\n",
    "# Convert to numpy array if you're working with non-torch functions later\n",
    "predicted_indices = predicted_indices.numpy()"
   ]
  },
  {
   "cell_type": "code",
   "execution_count": null,
   "metadata": {},
   "outputs": [],
   "source": []
  },
  {
   "cell_type": "code",
   "execution_count": null,
   "metadata": {},
   "outputs": [],
   "source": []
  }
 ],
 "metadata": {
  "kernelspec": {
   "display_name": "base",
   "language": "python",
   "name": "python3"
  },
  "language_info": {
   "codemirror_mode": {
    "name": "ipython",
    "version": 3
   },
   "file_extension": ".py",
   "mimetype": "text/x-python",
   "name": "python",
   "nbconvert_exporter": "python",
   "pygments_lexer": "ipython3",
   "version": "3.11.6"
  }
 },
 "nbformat": 4,
 "nbformat_minor": 2
}

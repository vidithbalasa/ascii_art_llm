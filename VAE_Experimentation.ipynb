{
  "nbformat": 4,
  "nbformat_minor": 0,
  "metadata": {
    "colab": {
      "provenance": []
    },
    "kernelspec": {
      "name": "python3",
      "display_name": "Python 3"
    },
    "language_info": {
      "name": "python"
    }
  },
  "cells": [
    {
      "cell_type": "code",
      "execution_count": 2,
      "metadata": {
        "id": "_ptYY_yh6PZC"
      },
      "outputs": [],
      "source": [
        "import pandas as pd"
      ]
    },
    {
      "cell_type": "code",
      "source": [
        "df = pd.read_json(\"ascii_art_data.json\")\n"
      ],
      "metadata": {
        "id": "yeyD4J6u6lJM"
      },
      "execution_count": 5,
      "outputs": []
    },
    {
      "cell_type": "code",
      "source": [
        "print(df['text'][1])"
      ],
      "metadata": {
        "colab": {
          "base_uri": "https://localhost:8080/"
        },
        "id": "N0G4Z_036wDL",
        "outputId": "a8da34d2-2244-4099-c6a7-f92fe1aa1cd1"
      },
      "execution_count": 6,
      "outputs": [
        {
          "output_type": "stream",
          "name": "stdout",
          "text": [
            "       _.---._    /\\\\\r\n",
            "    ./'       \"--`\\//\r\n",
            "  ./              o \\          .-----.\r\n",
            " /./\\  )______   \\__ \\        ( help! )\r\n",
            "./  / /\\ \\   | \\ \\  \\ \\       /`-----'\r\n",
            "   / /  \\ \\  | |\\ \\  \\7--- ooo ooo ooo ooo ooo ooo\r\n"
          ]
        }
      ]
    },
    {
      "cell_type": "code",
      "source": [
        "# prompt: create a variable called ASCII_TEXT which is a list of all the df['text'] items where the width is less than 32 AND the height is less than 32. You might have to first calculate the width and height for each item before filtering since they're just strings. Width in this case is the width of the longest line, not the average width of the ascii image\n",
        "\n",
        "import pandas as pd\n",
        "\n",
        "df = pd.read_json(\"ascii_art_data.json\")\n",
        "\n",
        "df['width'] = df['text'].apply(lambda x: max(len(line) for line in x.splitlines()))\n",
        "df['height'] = df['text'].apply(lambda x: len(x.splitlines()))\n",
        "\n",
        "ASCII_TEXT = df[ (df['width'] < 32) & (df['height'] < 32) ]['text'].tolist()\n",
        "len(ASCII_TEXT)\n"
      ],
      "metadata": {
        "colab": {
          "base_uri": "https://localhost:8080/"
        },
        "id": "3J4WLyVx8yaF",
        "outputId": "a90c3f96-8c3e-45e1-f9f0-12e5feca8107"
      },
      "execution_count": 8,
      "outputs": [
        {
          "output_type": "execute_result",
          "data": {
            "text/plain": [
              "2108"
            ]
          },
          "metadata": {},
          "execution_count": 8
        }
      ]
    },
    {
      "cell_type": "code",
      "source": [
        "import torch\n",
        "from transformers import AutoTokenizer\n",
        "\n",
        "class ASCIITokenizer:\n",
        "    def __init__(self):\n",
        "        self.vocab = [chr(i) for i in range(32, 127)]  # printable ASCII characters\n",
        "        self.vocab_size = len(self.vocab)\n",
        "        self.token_to_char = {i: c for i, c in enumerate(self.vocab)}\n",
        "        self.char_to_token = {c: i for i, c in enumerate(self.vocab)}\n",
        "\n",
        "    def tokenize(self, text):\n",
        "        tokens = [self.char_to_token[c] for c in text if c in self.vocab]\n",
        "        return tokens\n",
        "\n",
        "tokenizer = ASCIITokenizer()\n",
        "\n",
        "tokenized_data = []\n",
        "for ascii_art in ASCII_TEXT:\n",
        "    tokens = tokenizer.tokenize(ascii_art)\n",
        "    tokenized_data.append(tokens)\n",
        "\n",
        "print(f'Num Unique Tokens: {len(tokenizer.token_to_char)}')"
      ],
      "metadata": {
        "colab": {
          "base_uri": "https://localhost:8080/"
        },
        "id": "znQvGx116592",
        "outputId": "2cf3368a-5ccb-43e6-c83e-af6007fa191f"
      },
      "execution_count": 9,
      "outputs": [
        {
          "output_type": "stream",
          "name": "stdout",
          "text": [
            "Num Unique Tokens: 95\n"
          ]
        }
      ]
    },
    {
      "cell_type": "markdown",
      "source": [
        "One thing to note is that the tokenization here tokenizes each character individually, meaning that `\\` and `n` are individual tokens, I think it'll be fine and the model will learn that they should be combined for a new line but I don't know if we have enough data and time for it to properly learn that."
      ],
      "metadata": {
        "id": "l3JiBLYE_ERB"
      }
    },
    {
      "cell_type": "markdown",
      "source": [
        "I think the padding I'm doing underneath is definitely an area we gotta do some more experimentation on. Right now it's just flattening the art into a long string and padding it at the end but it might be better to add padding in between to center the image. Not sure."
      ],
      "metadata": {
        "id": "jiAY6ary-oNO"
      }
    },
    {
      "cell_type": "code",
      "source": [
        "def pad_ascii_art(ascii_art, max_width=32, max_height=32, pad_char=' '):\n",
        "    lines = ascii_art.splitlines()\n",
        "    padded_lines = [line.ljust(max_width, pad_char) for line in lines]\n",
        "    while len(padded_lines) < max_height:\n",
        "        padded_lines.append(pad_char * max_width)\n",
        "    return '\\n'.join(padded_lines)\n",
        "\n",
        "padded_data = [pad_ascii_art(art) for art in ASCII_TEXT]\n",
        "\n",
        "# Tokenize the padded data\n",
        "tokenized_data = [tokenizer.tokenize(art) for art in padded_data]\n",
        "\n",
        "# Convert to tensor and pad to 32x32 (1024 tokens)\n",
        "max_length = 32 * 32\n",
        "tokenized_data = [tokens + [0] * (max_length - len(tokens)) for tokens in tokenized_data]\n",
        "tokenized_data = torch.tensor(tokenized_data)"
      ],
      "metadata": {
        "id": "Ikw8B6SR-ofs"
      },
      "execution_count": 10,
      "outputs": []
    },
    {
      "cell_type": "code",
      "source": [
        "from torch.utils.data import DataLoader, TensorDataset\n",
        "\n",
        "dataset = TensorDataset(tokenized_data)\n",
        "dataloader = DataLoader(dataset, batch_size=32, shuffle=True)"
      ],
      "metadata": {
        "id": "_BnFyQDuAt6a"
      },
      "execution_count": 11,
      "outputs": []
    },
    {
      "cell_type": "markdown",
      "source": [
        "### Modeling"
      ],
      "metadata": {
        "id": "CwfVtw1eyMQl"
      }
    },
    {
      "cell_type": "code",
      "source": [
        "import torch\n",
        "import torch.nn as nn\n",
        "import torch.optim as optim\n",
        "from torch.utils.data import DataLoader, TensorDataset\n",
        "\n",
        "class VAE(nn.Module):\n",
        "    def __init__(self, input_dim, hidden_dim, latent_dim):\n",
        "        super(VAE, self).__init__()\n",
        "        # Encoder\n",
        "        self.encoder = nn.Sequential(\n",
        "            nn.Linear(input_dim, hidden_dim),\n",
        "            nn.ReLU(),\n",
        "            nn.Linear(hidden_dim, latent_dim * 2)  # for mean and log variance\n",
        "        )\n",
        "        # Decoder\n",
        "        self.decoder = nn.Sequential(\n",
        "            nn.Linear(latent_dim, hidden_dim),\n",
        "            nn.ReLU(),\n",
        "            nn.Linear(hidden_dim, input_dim),\n",
        "            nn.Sigmoid()  # output values between 0 and 1\n",
        "        )\n",
        "\n",
        "    def reparameterize(self, mu, logvar):\n",
        "        std = torch.exp(0.5 * logvar)\n",
        "        eps = torch.randn_like(std)\n",
        "        return mu + eps * std\n",
        "\n",
        "    def forward(self, x):\n",
        "        # Encode\n",
        "        h = self.encoder(x)\n",
        "        mu, logvar = h.chunk(2, dim=-1)\n",
        "        # Reparameterize\n",
        "        z = self.reparameterize(mu, logvar)\n",
        "        # Decode\n",
        "        x_reconstructed = self.decoder(z)\n",
        "        return x_reconstructed, mu, logvar"
      ],
      "metadata": {
        "id": "VaBr46P6yq9O"
      },
      "execution_count": 21,
      "outputs": []
    },
    {
      "cell_type": "code",
      "source": [
        "def loss_function(recon_x, x, mu, logvar):\n",
        "    BCE = nn.functional.binary_cross_entropy(recon_x, x, reduction='sum')\n",
        "    # KL divergence\n",
        "    KLD = -0.5 * torch.sum(1 + logvar - mu.pow(2) - logvar.exp())\n",
        "    return BCE + KLD"
      ],
      "metadata": {
        "id": "XWlYUNUoytUs"
      },
      "execution_count": 22,
      "outputs": []
    },
    {
      "cell_type": "code",
      "source": [
        "# Parameters\n",
        "input_dim = 32 * 32  # 1024\n",
        "hidden_dim = 512\n",
        "latent_dim = 64\n",
        "lr = 0.001\n",
        "num_epochs = 50\n",
        "\n",
        "# Model, optimizer, and loss function\n",
        "model = VAE(input_dim, hidden_dim, latent_dim)\n",
        "optimizer = optim.Adam(model.parameters(), lr=lr)"
      ],
      "metadata": {
        "id": "8oZiPzfH0ah0"
      },
      "execution_count": 24,
      "outputs": []
    },
    {
      "cell_type": "code",
      "source": [
        "vocab_size = 95  # Number of printable ASCII characters\n",
        "tokenized_data = tokenized_data.float() / vocab_size"
      ],
      "metadata": {
        "id": "_XaeG36V03Wk"
      },
      "execution_count": 25,
      "outputs": []
    },
    {
      "cell_type": "code",
      "source": [
        "model.train()\n",
        "for epoch in range(num_epochs):\n",
        "    total_loss = 0\n",
        "    for batch in dataloader:\n",
        "        batch = batch[0].float() / vocab_size\n",
        "        optimizer.zero_grad()\n",
        "        recon_batch, mu, logvar = model(batch)\n",
        "        loss = loss_function(recon_batch, batch, mu, logvar)\n",
        "        loss.backward()\n",
        "        total_loss += loss.item()\n",
        "        optimizer.step()\n",
        "\n",
        "    print(f'Epoch {epoch + 1}, Loss: {total_loss / len(dataloader.dataset)}')"
      ],
      "metadata": {
        "colab": {
          "base_uri": "https://localhost:8080/"
        },
        "id": "ik8lZZBy0dS8",
        "outputId": "de84ddcc-a638-4eff-a128-4d463fbdf561"
      },
      "execution_count": 28,
      "outputs": [
        {
          "output_type": "stream",
          "name": "stdout",
          "text": [
            "Epoch 1, Loss: 210.8883853456327\n",
            "Epoch 2, Loss: 137.3592195746116\n",
            "Epoch 3, Loss: 133.83079514331564\n",
            "Epoch 4, Loss: 129.1705778581594\n",
            "Epoch 5, Loss: 126.31899068930117\n",
            "Epoch 6, Loss: 123.30519025827947\n",
            "Epoch 7, Loss: 121.30071662454044\n",
            "Epoch 8, Loss: 119.97072536171727\n",
            "Epoch 9, Loss: 118.78508571791242\n",
            "Epoch 10, Loss: 118.2915747857863\n",
            "Epoch 11, Loss: 117.82751997598434\n",
            "Epoch 12, Loss: 117.19477418613614\n",
            "Epoch 13, Loss: 116.37714132638312\n",
            "Epoch 14, Loss: 116.17135266877668\n",
            "Epoch 15, Loss: 115.46657751904945\n",
            "Epoch 16, Loss: 115.09399842582572\n",
            "Epoch 17, Loss: 114.74855415011267\n",
            "Epoch 18, Loss: 114.07342262919532\n",
            "Epoch 19, Loss: 113.61534579021881\n",
            "Epoch 20, Loss: 112.96608414188508\n",
            "Epoch 21, Loss: 112.65668685884133\n",
            "Epoch 22, Loss: 112.09649855090726\n",
            "Epoch 23, Loss: 111.51719813193044\n",
            "Epoch 24, Loss: 111.36693710529826\n",
            "Epoch 25, Loss: 111.00548482529352\n",
            "Epoch 26, Loss: 110.42333463201939\n",
            "Epoch 27, Loss: 110.00803058197195\n",
            "Epoch 28, Loss: 109.86490337219817\n",
            "Epoch 29, Loss: 109.5405399677197\n",
            "Epoch 30, Loss: 109.11557510636563\n",
            "Epoch 31, Loss: 108.95209122427953\n",
            "Epoch 32, Loss: 108.64241737206476\n",
            "Epoch 33, Loss: 108.48626500515151\n",
            "Epoch 34, Loss: 108.04810311536409\n",
            "Epoch 35, Loss: 107.62145752879655\n",
            "Epoch 36, Loss: 107.31305475976933\n",
            "Epoch 37, Loss: 106.9960075827206\n",
            "Epoch 38, Loss: 106.74321282113526\n",
            "Epoch 39, Loss: 106.7622008929895\n",
            "Epoch 40, Loss: 106.33791853671282\n",
            "Epoch 41, Loss: 106.06561256133628\n",
            "Epoch 42, Loss: 105.94159966311373\n",
            "Epoch 43, Loss: 105.8508520832098\n",
            "Epoch 44, Loss: 105.71110276976844\n",
            "Epoch 45, Loss: 105.10690116520398\n",
            "Epoch 46, Loss: 104.96458490071306\n",
            "Epoch 47, Loss: 104.83251779400646\n",
            "Epoch 48, Loss: 104.66557471259043\n",
            "Epoch 49, Loss: 104.4595422618077\n",
            "Epoch 50, Loss: 104.32923266647889\n"
          ]
        }
      ]
    },
    {
      "cell_type": "code",
      "source": [
        "import matplotlib.pyplot as plt\n",
        "\n",
        "def generate_ascii_art(model, num_images):\n",
        "    model.eval()  # Set the model to evaluation mode\n",
        "    with torch.no_grad():\n",
        "        # Sample random latent vectors\n",
        "        z = torch.randn(num_images, model.decoder[0].in_features).float()\n",
        "        # Generate images by passing the latent vectors through the decoder\n",
        "        generated_images = model.decoder(z)\n",
        "\n",
        "    # Denormalize the generated images (values from 0 to 1 back to 0 to 94)\n",
        "    generated_images = (generated_images * vocab_size).int().clamp(0, vocab_size - 1)\n",
        "\n",
        "    # Convert generated tokens back to ASCII characters\n",
        "    generated_ascii_art = []\n",
        "    for image in generated_images:\n",
        "        tokens = image.numpy().reshape(32, 32)  # Reshape to 32x32\n",
        "        ascii_art = '\\n'.join(''.join(tokenizer.token_to_char[token] for token in row) for row in tokens)\n",
        "        generated_ascii_art.append(ascii_art)\n",
        "\n",
        "    return generated_ascii_art\n",
        "\n",
        "# Generate 5 images\n",
        "NUM_IMAGES = 5\n",
        "generated_images = generate_ascii_art(model, NUM_IMAGES)\n",
        "\n",
        "# Print the generated ASCII art images\n",
        "for i, art in enumerate(generated_images):\n",
        "    print(f\"Generated ASCII Art {i + 1}:\\n{art}\\n{'-'*40}\")\n",
        "\n",
        "# Optional: Plot the generated ASCII art images using matplotlib (if desired)\n",
        "fig, axes = plt.subplots(1, 5, figsize=(20, 5))\n",
        "for i, art in enumerate(generated_images):\n",
        "    axes[i].imshow([[ord(char) for char in line] for line in art.split('\\n')], cmap='gray')\n",
        "    axes[i].axis('off')\n",
        "plt.show()"
      ],
      "metadata": {
        "colab": {
          "base_uri": "https://localhost:8080/",
          "height": 1000
        },
        "id": "VdFk-3Ha43Wi",
        "outputId": "88633c6a-016f-43bd-b6b2-b28560d443e8"
      },
      "execution_count": 30,
      "outputs": [
        {
          "output_type": "stream",
          "name": "stdout",
          "text": [
            "Generated ASCII Art 1:\n",
            "     !!\"##$&*/024-1'$##!        \n",
            "  !!\"$%)0+*/23;?GH09()('! \"     \n",
            "! \"\"$).).1-1//7>97>?-(('##\"     \n",
            "\"##\"'&+0-44:85831?<?93(&\"\"\"!    \n",
            "&*)#*.4;4459?79>HITJJL44)%&)    \n",
            "/13&,.;<=DOIQAJEHJXWXQM90+.(!   \n",
            "/'+$*.4.5157A:88<CE6=.+/($)&    \n",
            "'$&\"$%-1.0/7/06;9630401%%%-\"    \n",
            ",*+!$$*%*-0+-(3-(,*&$#\"\"#!\"!    \n",
            "!## ! !!!\"$$$\"\"\"!!\"!!!#!! #     \n",
            "        !!!\"\"!!!! !#!!!\"  #     \n",
            "          !!!\"\"\"\"! !!!!         \n",
            "           !! !                 \n",
            "                                \n",
            "           ! !     \"            \n",
            "              !!                \n",
            "                                \n",
            "                                \n",
            "                                \n",
            "                                \n",
            "                                \n",
            "                                \n",
            "                                \n",
            "                                \n",
            "                                \n",
            "                                \n",
            "                                \n",
            "                                \n",
            "                                \n",
            "                                \n",
            "                                \n",
            "                                \n",
            "----------------------------------------\n",
            "Generated ASCII Art 2:\n",
            "    !\"$%-+0588.+2,$\"!!!         \n",
            "  !\"$&*&10.54.C9F4.)!\"!\"        \n",
            " !#%)11/44?9;GKEFA<=+%$\"!!      \n",
            " #'&-0,.-=IIFKQEIUAI:0'\"\"       \n",
            "'):*6.3F?@M_^\\[ZbchZ[H2$$#!!    \n",
            "*4?,0026@>IAGROUQ][VU5>#$!\"     \n",
            "1IU9H>><MCFNT][[db]]R47-+%!     \n",
            "1BT1976DDCFMGJP@Q^SNH=A#(!\"     \n",
            "!)&%#&$*''.1/3-+&-$&$\"\" !       \n",
            " \"\"!!! \"#\"$%(+%$$$! ! \"         \n",
            " !!\"!!  \"!$##&+$%\"!\"!\"\"         \n",
            "          !  \"\"!\"!              \n",
            "            !    !              \n",
            "          ! !#  !               \n",
            "                                \n",
            "                                \n",
            "                                \n",
            "                                \n",
            "                                \n",
            "                                \n",
            "                                \n",
            "                                \n",
            "                                \n",
            "                                \n",
            "                                \n",
            "                                \n",
            "                                \n",
            "                                \n",
            "                                \n",
            "                                \n",
            "                                \n",
            "                                \n",
            "----------------------------------------\n",
            "Generated ASCII Art 3:\n",
            "$&((&)/*/2:?:?73+'$\"\"           \n",
            "#%$#%$$\"#%%'&)'1%%*#\"!          \n",
            "! !$$#$%\"\"#$&%%&\"\"#!\"           \n",
            "\"\"!%$#$\"$&%%'%&$\"#$!\"           \n",
            "!!!$#\"##\"\"%%'%\"$#$%! !          \n",
            "!\" #!##\"\"$#$+$$+!*,\"            \n",
            "!! \"#%('$'%#$'\".\"#'$            \n",
            "\"   !\"##\"#\"!#!#%\"\"'!\"           \n",
            "(%#!\"'%)#.(/&,(2$'1)!!          \n",
            "('\"!'\"#(!%'()&$*#$#%!!          \n",
            "$!! !\"$&\"#\"$+%\"##%!!$\"!         \n",
            "('%!\"\"+#0*'#<&)((',#'\"# \"!      \n",
            "\"5\"!$ #%\"%\"$($!\"!!! !   !       \n",
            "%($\"&\"\"! !\"\"%!#!!!! !   #!      \n",
            "$)# !         !  !      !       \n",
            " !  \" !!     ! !                \n",
            "                                \n",
            "                                \n",
            "                                \n",
            "                                \n",
            "                                \n",
            "                                \n",
            "                                \n",
            "                                \n",
            "                                \n",
            "                                \n",
            "                                \n",
            "                                \n",
            "                                \n",
            "                                \n",
            "                                \n",
            "                                \n",
            "----------------------------------------\n",
            "Generated ASCII Art 4:\n",
            "  !!\"#(*324/2/*'(\"!             \n",
            " !#$&/0127270**,&$!!            \n",
            "!$&*,9A;@AKI@=66-(#&!!          \n",
            "&()).66;;9A;=92-1*#&$\"          \n",
            "/3804C:SKBOGA>43-()*'$! !       \n",
            "STT6AILNRU[RJKJ;4-)7)1($!       \n",
            ";94(+/10+-192/*-)$(\"\"!\"!!       \n",
            "%%$\"\"\"#%##\"&!\"!\"#!              \n",
            "!!  !!\"!!\"#$!!\"! !              \n",
            "      !!  \"!                    \n",
            "     !! \" !\"                    \n",
            "     !\" ! !! !                  \n",
            "     !\"  !!!                    \n",
            "      ! !!!                     \n",
            "      !! !\"!                    \n",
            "      ! \"!#! !                  \n",
            "  !  !#$#\"'\"!!!!     !          \n",
            "     #\"!\"!'\"!! \" !              \n",
            "      ! !!$!\"                   \n",
            "        !!                      \n",
            "       !                        \n",
            "        !!                      \n",
            "      ! ! ! !                   \n",
            "        !                       \n",
            "                                \n",
            "                                \n",
            "                                \n",
            "                                \n",
            "                                \n",
            "                                \n",
            "                                \n",
            "                                \n",
            "----------------------------------------\n",
            "Generated ASCII Art 5:\n",
            "       !\"\"%%)(%#! !!            \n",
            "     !!\"$##,%()'\"# !!!          \n",
            "   !!!##$$&-13,,)(##$\"\"$!!  !   \n",
            "  !!!\"##,(,.20+**+##\"#$&\"$      \n",
            "  !!!\"#$''1*1.'(#0(%###'!\"!     \n",
            "  \" !%#%$)'.92.+&$&(&##*#\"$!    \n",
            "!%###*0,'/63?99/*)-+($&/($&$!!  \n",
            "!&&#'$,+,(*00720)'+*()*/-&!!$!  \n",
            "#)&\"',,4&3<5.F9.,03/21.0+$\"$'   \n",
            "\"#)'*1,0.7,/0?486>1021+.)+)#.$  \n",
            "#\",%&71?.2,63@45240624.).%!#\"!  \n",
            "),,$-.>224493G00<1433A131-#$!*  \n",
            ",C9).@D@897</>/4*-.C8,,2:/!\"!!  \n",
            "-A3+)::=4<:@=J@C93>:--+7/'!\"    \n",
            "';3(.-12+).9*>;/01':#%3:*'##\"$  \n",
            "&:-)1=4)*.+A1>85-)(/).'413('!$  \n",
            "&=:&,5361;5M5;4=.:7-&-+(*+.:*%  \n",
            "7_G+*8H=;D<V=46@*3C?;51+%)3*,%  \n",
            "4QJ/18B;8<IJAV=S0B8:9/*5''):7/  \n",
            "*@3!#57/.*EJAP09-@1>;.\"$$)!#'#  \n",
            " \"(#$\"%%&#&.(0&#\"%$\"$)!!\"!\"!    \n",
            " !# !\"#\"#\"-+\"!!$ !\"!\"( !\" !! \"  \n",
            "   !  !   !\" !   !  !$          \n",
            "     !    \"\" !  ! !! !   !      \n",
            "      \"   !\"   !  !             \n",
            "   !  !!!  ! !                  \n",
            "               !      !         \n",
            "                 !              \n",
            "       !        !               \n",
            "                      !         \n",
            "     ! !         !              \n",
            "                                \n",
            "----------------------------------------\n"
          ]
        },
        {
          "output_type": "display_data",
          "data": {
            "text/plain": [
              "<Figure size 2000x500 with 5 Axes>"
            ],
            "image/png": "[encoded data removed]"
          },
          "metadata": {}
        }
      ]
    }
  ]
}